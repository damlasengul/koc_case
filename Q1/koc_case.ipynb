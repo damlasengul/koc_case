{
 "cells": [
  {
   "cell_type": "markdown",
   "id": "d0cc790a-143f-447b-8121-ffd18d41f8b2",
   "metadata": {
    "tags": []
   },
   "source": [
    "# 1.1"
   ]
  },
  {
   "cell_type": "markdown",
   "id": "f13c6810-15ee-47b3-bbab-716bda29b965",
   "metadata": {},
   "source": [
    "### Import Libraries"
   ]
  },
  {
   "cell_type": "code",
   "execution_count": 1,
   "id": "807af390-80ee-4020-9dca-cc76d18c2025",
   "metadata": {},
   "outputs": [],
   "source": [
    "import pandas as pd\n",
    "import numpy as np\n",
    "import matplotlib.pyplot as plt\n",
    "import seaborn as sns\n",
    "from sklearn.model_selection import train_test_split\n",
    "from sklearn.preprocessing import StandardScaler, LabelEncoder\n",
    "from sklearn.svm import SVC\n",
    "from sklearn.linear_model import LogisticRegression\n",
    "from sklearn.ensemble import RandomForestClassifier,GradientBoostingClassifier\n",
    "from sklearn.metrics import classification_report, confusion_matrix, accuracy_score"
   ]
  },
  {
   "cell_type": "markdown",
   "id": "2ed5f0a2-0f20-4236-a621-fc9b7329aca7",
   "metadata": {},
   "source": [
    "### Load Data"
   ]
  },
  {
   "cell_type": "code",
   "execution_count": 2,
   "id": "85596f5d-2574-432a-936e-fec1e7cbeeb4",
   "metadata": {},
   "outputs": [],
   "source": [
    "customer_df = pd.read_csv('loan_approval_dataset_updated.csv',sep=';')"
   ]
  },
  {
   "cell_type": "code",
   "execution_count": 3,
   "id": "93ecab8d-91d1-4b9f-a7f3-e3b58b3c5484",
   "metadata": {},
   "outputs": [
    {
     "data": {
      "text/html": [
       "<div>\n",
       "<style scoped>\n",
       "    .dataframe tbody tr th:only-of-type {\n",
       "        vertical-align: middle;\n",
       "    }\n",
       "\n",
       "    .dataframe tbody tr th {\n",
       "        vertical-align: top;\n",
       "    }\n",
       "\n",
       "    .dataframe thead th {\n",
       "        text-align: right;\n",
       "    }\n",
       "</style>\n",
       "<table border=\"1\" class=\"dataframe\">\n",
       "  <thead>\n",
       "    <tr style=\"text-align: right;\">\n",
       "      <th></th>\n",
       "      <th>loan_id</th>\n",
       "      <th>no_of_dependents</th>\n",
       "      <th>City</th>\n",
       "      <th>education</th>\n",
       "      <th>self_employed</th>\n",
       "      <th>income_annum</th>\n",
       "      <th>loan_amount</th>\n",
       "      <th>loan_term</th>\n",
       "      <th>cibil_score</th>\n",
       "      <th>residential_assets_value</th>\n",
       "      <th>commercial_assets_value</th>\n",
       "      <th>luxury_assets_value</th>\n",
       "      <th>bank_asset_value</th>\n",
       "      <th>loan_status</th>\n",
       "    </tr>\n",
       "  </thead>\n",
       "  <tbody>\n",
       "    <tr>\n",
       "      <th>0</th>\n",
       "      <td>1</td>\n",
       "      <td>2</td>\n",
       "      <td>Ankara</td>\n",
       "      <td>Graduate</td>\n",
       "      <td>No</td>\n",
       "      <td>9600000</td>\n",
       "      <td>29900000</td>\n",
       "      <td>12</td>\n",
       "      <td>778.0</td>\n",
       "      <td>2400000.0</td>\n",
       "      <td>17600000</td>\n",
       "      <td>22700000</td>\n",
       "      <td>8000000</td>\n",
       "      <td>Approved</td>\n",
       "    </tr>\n",
       "    <tr>\n",
       "      <th>1</th>\n",
       "      <td>2</td>\n",
       "      <td>0</td>\n",
       "      <td>Ankara</td>\n",
       "      <td>Not Graduate</td>\n",
       "      <td>Yes</td>\n",
       "      <td>4100000</td>\n",
       "      <td>12200000</td>\n",
       "      <td>8</td>\n",
       "      <td>417.0</td>\n",
       "      <td>2700000.0</td>\n",
       "      <td>2200000</td>\n",
       "      <td>8800000</td>\n",
       "      <td>3300000</td>\n",
       "      <td>Rejected</td>\n",
       "    </tr>\n",
       "    <tr>\n",
       "      <th>2</th>\n",
       "      <td>3</td>\n",
       "      <td>3</td>\n",
       "      <td>Ankara</td>\n",
       "      <td>Graduate</td>\n",
       "      <td>No</td>\n",
       "      <td>9100000</td>\n",
       "      <td>29700000</td>\n",
       "      <td>20</td>\n",
       "      <td>NaN</td>\n",
       "      <td>7100000.0</td>\n",
       "      <td>4500000</td>\n",
       "      <td>33300000</td>\n",
       "      <td>12800000</td>\n",
       "      <td>Rejected</td>\n",
       "    </tr>\n",
       "    <tr>\n",
       "      <th>3</th>\n",
       "      <td>4</td>\n",
       "      <td>3</td>\n",
       "      <td>Ankara</td>\n",
       "      <td>Graduate</td>\n",
       "      <td>No</td>\n",
       "      <td>8200000</td>\n",
       "      <td>30700000</td>\n",
       "      <td>8</td>\n",
       "      <td>NaN</td>\n",
       "      <td>18200000.0</td>\n",
       "      <td>3300000</td>\n",
       "      <td>23300000</td>\n",
       "      <td>7900000</td>\n",
       "      <td>Rejected</td>\n",
       "    </tr>\n",
       "    <tr>\n",
       "      <th>4</th>\n",
       "      <td>5</td>\n",
       "      <td>5</td>\n",
       "      <td>Ankara</td>\n",
       "      <td>Not Graduate</td>\n",
       "      <td>Yes</td>\n",
       "      <td>9800000</td>\n",
       "      <td>24200000</td>\n",
       "      <td>20</td>\n",
       "      <td>NaN</td>\n",
       "      <td>12400000.0</td>\n",
       "      <td>8200000</td>\n",
       "      <td>29400000</td>\n",
       "      <td>5000000</td>\n",
       "      <td>Rejected</td>\n",
       "    </tr>\n",
       "  </tbody>\n",
       "</table>\n",
       "</div>"
      ],
      "text/plain": [
       "   loan_id   no_of_dependents    City      education  self_employed  \\\n",
       "0        1                  2  Ankara       Graduate             No   \n",
       "1        2                  0  Ankara   Not Graduate            Yes   \n",
       "2        3                  3  Ankara       Graduate             No   \n",
       "3        4                  3  Ankara       Graduate             No   \n",
       "4        5                  5  Ankara   Not Graduate            Yes   \n",
       "\n",
       "    income_annum   loan_amount   loan_term   cibil_score  \\\n",
       "0        9600000      29900000          12         778.0   \n",
       "1        4100000      12200000           8         417.0   \n",
       "2        9100000      29700000          20           NaN   \n",
       "3        8200000      30700000           8           NaN   \n",
       "4        9800000      24200000          20           NaN   \n",
       "\n",
       "    residential_assets_value   commercial_assets_value   luxury_assets_value  \\\n",
       "0                  2400000.0                  17600000              22700000   \n",
       "1                  2700000.0                   2200000               8800000   \n",
       "2                  7100000.0                   4500000              33300000   \n",
       "3                 18200000.0                   3300000              23300000   \n",
       "4                 12400000.0                   8200000              29400000   \n",
       "\n",
       "    bank_asset_value  loan_status  \n",
       "0            8000000     Approved  \n",
       "1            3300000     Rejected  \n",
       "2           12800000     Rejected  \n",
       "3            7900000     Rejected  \n",
       "4            5000000     Rejected  "
      ]
     },
     "execution_count": 3,
     "metadata": {},
     "output_type": "execute_result"
    }
   ],
   "source": [
    "customer_df.head()"
   ]
  },
  {
   "cell_type": "code",
   "execution_count": 4,
   "id": "93911f18-c9e2-4937-8869-ae9759da0592",
   "metadata": {},
   "outputs": [
    {
     "data": {
      "text/html": [
       "<div>\n",
       "<style scoped>\n",
       "    .dataframe tbody tr th:only-of-type {\n",
       "        vertical-align: middle;\n",
       "    }\n",
       "\n",
       "    .dataframe tbody tr th {\n",
       "        vertical-align: top;\n",
       "    }\n",
       "\n",
       "    .dataframe thead th {\n",
       "        text-align: right;\n",
       "    }\n",
       "</style>\n",
       "<table border=\"1\" class=\"dataframe\">\n",
       "  <thead>\n",
       "    <tr style=\"text-align: right;\">\n",
       "      <th></th>\n",
       "      <th>loan_id</th>\n",
       "      <th>no_of_dependents</th>\n",
       "      <th>income_annum</th>\n",
       "      <th>loan_amount</th>\n",
       "      <th>loan_term</th>\n",
       "      <th>cibil_score</th>\n",
       "      <th>residential_assets_value</th>\n",
       "      <th>commercial_assets_value</th>\n",
       "      <th>luxury_assets_value</th>\n",
       "      <th>bank_asset_value</th>\n",
       "    </tr>\n",
       "  </thead>\n",
       "  <tbody>\n",
       "    <tr>\n",
       "      <th>count</th>\n",
       "      <td>4269.000000</td>\n",
       "      <td>4269.000000</td>\n",
       "      <td>4.269000e+03</td>\n",
       "      <td>4.269000e+03</td>\n",
       "      <td>4269.000000</td>\n",
       "      <td>3885.000000</td>\n",
       "      <td>4.146000e+03</td>\n",
       "      <td>4.269000e+03</td>\n",
       "      <td>4.269000e+03</td>\n",
       "      <td>4.269000e+03</td>\n",
       "    </tr>\n",
       "    <tr>\n",
       "      <th>mean</th>\n",
       "      <td>2135.000000</td>\n",
       "      <td>2.498712</td>\n",
       "      <td>5.059124e+06</td>\n",
       "      <td>1.513345e+07</td>\n",
       "      <td>10.900445</td>\n",
       "      <td>598.538996</td>\n",
       "      <td>7.490207e+06</td>\n",
       "      <td>4.973155e+06</td>\n",
       "      <td>1.512631e+07</td>\n",
       "      <td>4.976692e+06</td>\n",
       "    </tr>\n",
       "    <tr>\n",
       "      <th>std</th>\n",
       "      <td>1232.498479</td>\n",
       "      <td>1.695910</td>\n",
       "      <td>2.806840e+06</td>\n",
       "      <td>9.043363e+06</td>\n",
       "      <td>5.709187</td>\n",
       "      <td>172.283909</td>\n",
       "      <td>6.515407e+06</td>\n",
       "      <td>4.388966e+06</td>\n",
       "      <td>9.103754e+06</td>\n",
       "      <td>3.250185e+06</td>\n",
       "    </tr>\n",
       "    <tr>\n",
       "      <th>min</th>\n",
       "      <td>1.000000</td>\n",
       "      <td>0.000000</td>\n",
       "      <td>2.000000e+05</td>\n",
       "      <td>3.000000e+05</td>\n",
       "      <td>2.000000</td>\n",
       "      <td>300.000000</td>\n",
       "      <td>-1.000000e+05</td>\n",
       "      <td>0.000000e+00</td>\n",
       "      <td>3.000000e+05</td>\n",
       "      <td>0.000000e+00</td>\n",
       "    </tr>\n",
       "    <tr>\n",
       "      <th>25%</th>\n",
       "      <td>1068.000000</td>\n",
       "      <td>1.000000</td>\n",
       "      <td>2.700000e+06</td>\n",
       "      <td>7.700000e+06</td>\n",
       "      <td>6.000000</td>\n",
       "      <td>451.000000</td>\n",
       "      <td>2.200000e+06</td>\n",
       "      <td>1.300000e+06</td>\n",
       "      <td>7.500000e+06</td>\n",
       "      <td>2.300000e+06</td>\n",
       "    </tr>\n",
       "    <tr>\n",
       "      <th>50%</th>\n",
       "      <td>2135.000000</td>\n",
       "      <td>3.000000</td>\n",
       "      <td>5.100000e+06</td>\n",
       "      <td>1.450000e+07</td>\n",
       "      <td>10.000000</td>\n",
       "      <td>597.000000</td>\n",
       "      <td>5.600000e+06</td>\n",
       "      <td>3.700000e+06</td>\n",
       "      <td>1.460000e+07</td>\n",
       "      <td>4.600000e+06</td>\n",
       "    </tr>\n",
       "    <tr>\n",
       "      <th>75%</th>\n",
       "      <td>3202.000000</td>\n",
       "      <td>4.000000</td>\n",
       "      <td>7.500000e+06</td>\n",
       "      <td>2.150000e+07</td>\n",
       "      <td>16.000000</td>\n",
       "      <td>745.000000</td>\n",
       "      <td>1.130000e+07</td>\n",
       "      <td>7.600000e+06</td>\n",
       "      <td>2.170000e+07</td>\n",
       "      <td>7.100000e+06</td>\n",
       "    </tr>\n",
       "    <tr>\n",
       "      <th>max</th>\n",
       "      <td>4269.000000</td>\n",
       "      <td>5.000000</td>\n",
       "      <td>9.900000e+06</td>\n",
       "      <td>3.950000e+07</td>\n",
       "      <td>20.000000</td>\n",
       "      <td>900.000000</td>\n",
       "      <td>2.910000e+07</td>\n",
       "      <td>1.940000e+07</td>\n",
       "      <td>3.920000e+07</td>\n",
       "      <td>1.470000e+07</td>\n",
       "    </tr>\n",
       "  </tbody>\n",
       "</table>\n",
       "</div>"
      ],
      "text/plain": [
       "           loan_id   no_of_dependents   income_annum   loan_amount  \\\n",
       "count  4269.000000        4269.000000   4.269000e+03  4.269000e+03   \n",
       "mean   2135.000000           2.498712   5.059124e+06  1.513345e+07   \n",
       "std    1232.498479           1.695910   2.806840e+06  9.043363e+06   \n",
       "min       1.000000           0.000000   2.000000e+05  3.000000e+05   \n",
       "25%    1068.000000           1.000000   2.700000e+06  7.700000e+06   \n",
       "50%    2135.000000           3.000000   5.100000e+06  1.450000e+07   \n",
       "75%    3202.000000           4.000000   7.500000e+06  2.150000e+07   \n",
       "max    4269.000000           5.000000   9.900000e+06  3.950000e+07   \n",
       "\n",
       "         loan_term   cibil_score   residential_assets_value  \\\n",
       "count  4269.000000   3885.000000               4.146000e+03   \n",
       "mean     10.900445    598.538996               7.490207e+06   \n",
       "std       5.709187    172.283909               6.515407e+06   \n",
       "min       2.000000    300.000000              -1.000000e+05   \n",
       "25%       6.000000    451.000000               2.200000e+06   \n",
       "50%      10.000000    597.000000               5.600000e+06   \n",
       "75%      16.000000    745.000000               1.130000e+07   \n",
       "max      20.000000    900.000000               2.910000e+07   \n",
       "\n",
       "        commercial_assets_value   luxury_assets_value   bank_asset_value  \n",
       "count              4.269000e+03          4.269000e+03       4.269000e+03  \n",
       "mean               4.973155e+06          1.512631e+07       4.976692e+06  \n",
       "std                4.388966e+06          9.103754e+06       3.250185e+06  \n",
       "min                0.000000e+00          3.000000e+05       0.000000e+00  \n",
       "25%                1.300000e+06          7.500000e+06       2.300000e+06  \n",
       "50%                3.700000e+06          1.460000e+07       4.600000e+06  \n",
       "75%                7.600000e+06          2.170000e+07       7.100000e+06  \n",
       "max                1.940000e+07          3.920000e+07       1.470000e+07  "
      ]
     },
     "execution_count": 4,
     "metadata": {},
     "output_type": "execute_result"
    }
   ],
   "source": [
    "customer_df.describe()"
   ]
  },
  {
   "cell_type": "code",
   "execution_count": 5,
   "id": "298f8b76-d3d4-46f0-909f-b2cfbc7054e0",
   "metadata": {},
   "outputs": [
    {
     "data": {
      "text/plain": [
       "loan_id                        0\n",
       " no_of_dependents              0\n",
       "City                         156\n",
       " education                    85\n",
       " self_employed                 0\n",
       " income_annum                  0\n",
       " loan_amount                   0\n",
       " loan_term                     0\n",
       " cibil_score                 384\n",
       " residential_assets_value    123\n",
       " commercial_assets_value       0\n",
       " luxury_assets_value           0\n",
       " bank_asset_value              0\n",
       " loan_status                   0\n",
       "dtype: int64"
      ]
     },
     "execution_count": 5,
     "metadata": {},
     "output_type": "execute_result"
    }
   ],
   "source": [
    "# number of null values within columns\n",
    "customer_df.isnull().sum()"
   ]
  },
  {
   "cell_type": "code",
   "execution_count": 6,
   "id": "192185bd-eef0-4046-956a-026a47853052",
   "metadata": {},
   "outputs": [
    {
     "data": {
      "text/plain": [
       "Index(['loan_id', ' no_of_dependents', 'City', ' education', ' self_employed',\n",
       "       ' income_annum', ' loan_amount', ' loan_term', ' cibil_score',\n",
       "       ' residential_assets_value', ' commercial_assets_value',\n",
       "       ' luxury_assets_value', ' bank_asset_value', ' loan_status'],\n",
       "      dtype='object')"
      ]
     },
     "execution_count": 6,
     "metadata": {},
     "output_type": "execute_result"
    }
   ],
   "source": [
    "customer_df.columns"
   ]
  },
  {
   "cell_type": "code",
   "execution_count": 7,
   "id": "7dd45eb0-5443-4503-9f56-edc2f40e4cdb",
   "metadata": {},
   "outputs": [],
   "source": [
    "# delete the blanks in the begging of the column names\n",
    "customer_df.columns = customer_df.columns.str.strip()"
   ]
  },
  {
   "cell_type": "code",
   "execution_count": 8,
   "id": "63c4b440-e1f0-4486-8270-0b405d8c3e4c",
   "metadata": {},
   "outputs": [
    {
     "data": {
      "text/plain": [
       "array([' Approved', ' Rejected'], dtype=object)"
      ]
     },
     "execution_count": 8,
     "metadata": {},
     "output_type": "execute_result"
    }
   ],
   "source": [
    "customer_df.loan_status.unique()"
   ]
  },
  {
   "cell_type": "markdown",
   "id": "a7df984d-bb0c-4b3a-adbe-cd3d255c2836",
   "metadata": {},
   "source": [
    "### Data Preprocessing"
   ]
  },
  {
   "cell_type": "code",
   "execution_count": 9,
   "id": "0ee8bed6-e304-417d-8a8d-83338d8c9da6",
   "metadata": {},
   "outputs": [],
   "source": [
    "# filling missing values for numerical columns with the median value\n",
    "for column in customer_df.select_dtypes(include=['float64', 'int64']).columns:\n",
    "    customer_df[column].fillna(customer_df[column].median(), inplace=True)\n",
    "\n",
    "# filling missing values for categorical columns with the mode value\n",
    "for column in customer_df.select_dtypes(include=['object']).columns:\n",
    "    customer_df[column].fillna(customer_df[column].mode()[0], inplace=True)\n",
    "\n",
    "# encoding categorical variables\n",
    "label_encoders = {}\n",
    "for column in customer_df.select_dtypes(include=['object']).columns:\n",
    "    le = LabelEncoder()\n",
    "    customer_df[column] = le.fit_transform(customer_df[column])\n",
    "    label_encoders[column] = le\n",
    "\n",
    "# splitting the data into features and target variable\n",
    "X = customer_df.drop(columns={'loan_status','loan_id'}, axis=1)\n",
    "y = customer_df['loan_status']\n",
    "\n",
    "\n",
    "# scaling numerical features\n",
    "scaler = StandardScaler()\n",
    "X_scaled = scaler.fit_transform(X)"
   ]
  },
  {
   "cell_type": "markdown",
   "id": "787a0e47-c3d0-4312-8d5c-5bd99bc43655",
   "metadata": {},
   "source": [
    "### Feature Importance"
   ]
  },
  {
   "cell_type": "code",
   "execution_count": 10,
   "id": "80fb401c-7858-4487-9727-5c8f99b6d756",
   "metadata": {},
   "outputs": [
    {
     "data": {
      "image/png": "[encoded data removed]",
      "text/plain": [
       "<Figure size 864x576 with 1 Axes>"
      ]
     },
     "metadata": {
      "needs_background": "light"
     },
     "output_type": "display_data"
    }
   ],
   "source": [
    "# initializing the model\n",
    "model = RandomForestClassifier(random_state=42)\n",
    "\n",
    "# training the model\n",
    "model.fit(X_scaled, y)\n",
    "\n",
    "# get feature importances\n",
    "importances = model.feature_importances_\n",
    "feature_names = X.columns\n",
    "feature_importance_df = pd.DataFrame({'feature': feature_names, 'importance': importances})\n",
    "feature_importance_df = feature_importance_df.sort_values(by='importance', ascending=False)\n",
    "\n",
    "# plot feature importances\n",
    "plt.figure(figsize=(12, 8))\n",
    "sns.barplot(x='importance', y='feature', data=feature_importance_df)\n",
    "plt.title('Feature Importance')\n",
    "plt.show()\n"
   ]
  },
  {
   "cell_type": "code",
   "execution_count": 11,
   "id": "9205ce90-6bfd-42cf-b3ea-0364ac2a3928",
   "metadata": {},
   "outputs": [],
   "source": [
    "top_features = feature_importance_df['feature'].tolist()\n",
    "\n",
    "X_top = customer_df[top_features]\n",
    "\n",
    "# scaling selected features\n",
    "X_top_scaled = scaler.fit_transform(X_top)\n",
    "\n",
    "# splitting the data into training and testing sets\n",
    "X_train, X_test, y_train, y_test = train_test_split(X_top_scaled, y, test_size=0.2, random_state=42)"
   ]
  },
  {
   "cell_type": "markdown",
   "id": "ceffeb01-ed0f-4b07-9641-4e34978c58b0",
   "metadata": {},
   "source": [
    "### Evaluating Random Forest"
   ]
  },
  {
   "cell_type": "code",
   "execution_count": 12,
   "id": "b0c12795-1174-42c2-a1ac-57aa497d39f3",
   "metadata": {},
   "outputs": [
    {
     "name": "stdout",
     "output_type": "stream",
     "text": [
      "              precision    recall  f1-score   support\n",
      "\n",
      "           0       0.93      0.99      0.96       536\n",
      "           1       0.97      0.87      0.92       318\n",
      "\n",
      "    accuracy                           0.94       854\n",
      "   macro avg       0.95      0.93      0.94       854\n",
      "weighted avg       0.95      0.94      0.94       854\n",
      "\n",
      "[[528   8]\n",
      " [ 40 278]]\n",
      "Accuracy: 0.9437939110070258\n",
      "\n"
     ]
    }
   ],
   "source": [
    "# initializing the model\n",
    "randomforest = RandomForestClassifier(random_state=42)\n",
    "\n",
    "# training the model\n",
    "randomforest.fit(X_train, y_train)\n",
    "\n",
    "# predicting the target variable for the test set\n",
    "y_pred = randomforest.predict(X_test)\n",
    "\n",
    "# generating a classification report\n",
    "print(classification_report(y_test, y_pred))\n",
    "\n",
    "# generating a confusion matrix\n",
    "print(confusion_matrix(y_test, y_pred))\n",
    "\n",
    "# calculating the accuracy\n",
    "print('Accuracy:', accuracy_score(y_test, y_pred))\n",
    "\n",
    "print()\n"
   ]
  },
  {
   "cell_type": "markdown",
   "id": "eb579e76-9eac-4847-965c-1cb34858fcee",
   "metadata": {
    "tags": []
   },
   "source": [
    "### Evaluating Gradient Boosting"
   ]
  },
  {
   "cell_type": "code",
   "execution_count": 13,
   "id": "f1ff722a-66d7-4a60-bfd0-456f6861872d",
   "metadata": {},
   "outputs": [
    {
     "name": "stdout",
     "output_type": "stream",
     "text": [
      "Classification Report for Gradient Boosting:\n",
      "              precision    recall  f1-score   support\n",
      "\n",
      "           0       0.94      0.99      0.96       536\n",
      "           1       0.98      0.89      0.93       318\n",
      "\n",
      "    accuracy                           0.95       854\n",
      "   macro avg       0.96      0.94      0.95       854\n",
      "weighted avg       0.95      0.95      0.95       854\n",
      "\n",
      "Confusion Matrix for Gradient Boosting:\n",
      "[[530   6]\n",
      " [ 36 282]]\n",
      "Accuracy for Gradient Boosting: 0.9508196721311475\n"
     ]
    }
   ],
   "source": [
    "# initializing the model\n",
    "gb_model = GradientBoostingClassifier(random_state=42)\n",
    "\n",
    "# training the model\n",
    "gb_model.fit(X_train, y_train)\n",
    "\n",
    "# predicting the target variable for the test set\n",
    "y_pred_gb = gb_model.predict(X_test)\n",
    "\n",
    "# generating a classification report\n",
    "print(\"Classification Report for Gradient Boosting:\")\n",
    "print(classification_report(y_test, y_pred_gb))\n",
    "\n",
    "# generating a confusion matrix\n",
    "print(\"Confusion Matrix for Gradient Boosting:\")\n",
    "print(confusion_matrix(y_test, y_pred_gb))\n",
    "\n",
    "# calculating the accuracy\n",
    "print('Accuracy for Gradient Boosting:', accuracy_score(y_test, y_pred_gb))\n"
   ]
  },
  {
   "cell_type": "markdown",
   "id": "d044d5ef-45f7-4ffe-8bbd-fbdd2b6794db",
   "metadata": {
    "tags": []
   },
   "source": [
    "### Evaluating SVM"
   ]
  },
  {
   "cell_type": "code",
   "execution_count": 14,
   "id": "a78e871c-4ded-42fa-95fd-a5fe686b1d83",
   "metadata": {},
   "outputs": [
    {
     "name": "stdout",
     "output_type": "stream",
     "text": [
      "Classification Report for SVM:\n",
      "              precision    recall  f1-score   support\n",
      "\n",
      "           0       0.91      0.94      0.92       536\n",
      "           1       0.89      0.84      0.86       318\n",
      "\n",
      "    accuracy                           0.90       854\n",
      "   macro avg       0.90      0.89      0.89       854\n",
      "weighted avg       0.90      0.90      0.90       854\n",
      "\n",
      "Confusion Matrix for SVM:\n",
      "[[503  33]\n",
      " [ 51 267]]\n",
      "Accuracy for SVM: 0.9016393442622951\n"
     ]
    }
   ],
   "source": [
    "# initializing the model\n",
    "svm_model = SVC(random_state=42)\n",
    "\n",
    "# training the model\n",
    "svm_model.fit(X_train, y_train)\n",
    "\n",
    "# predicting the target variable for the test set\n",
    "y_pred_svm = svm_model.predict(X_test)\n",
    "\n",
    "# generating a classification report\n",
    "print(\"Classification Report for SVM:\")\n",
    "print(classification_report(y_test, y_pred_svm))\n",
    "\n",
    "# generating a confusion matrix\n",
    "print(\"Confusion Matrix for SVM:\")\n",
    "print(confusion_matrix(y_test, y_pred_svm))\n",
    "\n",
    "# calculating the accuracy\n",
    "print('Accuracy for SVM:', accuracy_score(y_test, y_pred_svm))\n"
   ]
  },
  {
   "cell_type": "markdown",
   "id": "34c1d87e-0ea2-4929-9452-5fe2169263d7",
   "metadata": {
    "tags": []
   },
   "source": [
    "### Evaluating Logistic Regression"
   ]
  },
  {
   "cell_type": "code",
   "execution_count": 15,
   "id": "ab57ed1f-70b7-4158-a8a9-27752e3dba66",
   "metadata": {},
   "outputs": [
    {
     "name": "stdout",
     "output_type": "stream",
     "text": [
      "Classification Report for Logistic Regression:\n",
      "              precision    recall  f1-score   support\n",
      "\n",
      "           0       0.90      0.92      0.91       536\n",
      "           1       0.87      0.83      0.85       318\n",
      "\n",
      "    accuracy                           0.89       854\n",
      "   macro avg       0.88      0.88      0.88       854\n",
      "weighted avg       0.89      0.89      0.89       854\n",
      "\n",
      "Confusion Matrix for Logistic Regression:\n",
      "[[495  41]\n",
      " [ 53 265]]\n",
      "Accuracy for Logistic Regression: 0.8899297423887588\n"
     ]
    }
   ],
   "source": [
    "# initializing the model\n",
    "logreg_model = LogisticRegression(random_state=42, max_iter=1000)\n",
    "\n",
    "# traning the model\n",
    "logreg_model.fit(X_train, y_train)\n",
    "\n",
    "# predicting the target variable for the test set\n",
    "y_pred_logreg = logreg_model.predict(X_test)\n",
    "\n",
    "# generating a classification report\n",
    "print(\"Classification Report for Logistic Regression:\")\n",
    "print(classification_report(y_test, y_pred_logreg))\n",
    "\n",
    "# generating a confusion matrix\n",
    "print(\"Confusion Matrix for Logistic Regression:\")\n",
    "print(confusion_matrix(y_test, y_pred_logreg))\n",
    "\n",
    "# calculating the accuracy\n",
    "print('Accuracy for Logistic Regression:', accuracy_score(y_test, y_pred_logreg))\n",
    "\n"
   ]
  },
  {
   "cell_type": "markdown",
   "id": "414be649-b32e-43fe-92b4-36972945c286",
   "metadata": {},
   "source": [
    "# 1.2"
   ]
  },
  {
   "cell_type": "code",
   "execution_count": 16,
   "id": "c4013765-ef18-4a56-a861-bf7c3e59e9e1",
   "metadata": {},
   "outputs": [],
   "source": [
    "import pickle\n",
    "\n",
    "# saving the model to a file\n",
    "with open('final_model.pkl', 'wb') as file:\n",
    "    pickle.dump(gb_model, file)\n"
   ]
  },
  {
   "cell_type": "code",
   "execution_count": 17,
   "id": "f10e10e7-b5a2-464d-bdda-738ddf51be4c",
   "metadata": {},
   "outputs": [
    {
     "name": "stdout",
     "output_type": "stream",
     "text": [
      "Accuracy of loaded model: 0.9508196721311475\n"
     ]
    }
   ],
   "source": [
    "# loading the model from the file\n",
    "with open('final_model.pkl', 'rb') as file:\n",
    "    loaded_model = pickle.load(file)\n",
    "    \n",
    "# verifying the loaded model\n",
    "y_pred_loaded = loaded_model.predict(X_test)\n",
    "print(\"Accuracy of loaded model:\", accuracy_score(y_test, y_pred_loaded))\n"
   ]
  },
  {
   "cell_type": "code",
   "execution_count": null,
   "id": "74f03b4f-58fe-4505-8a32-513f7e832c7f",
   "metadata": {},
   "outputs": [],
   "source": []
  },
  {
   "cell_type": "code",
   "execution_count": null,
   "id": "1e535927-5752-43c2-9cf0-19fb5a0caeaf",
   "metadata": {},
   "outputs": [],
   "source": []
  },
  {
   "cell_type": "code",
   "execution_count": null,
   "id": "9b223866-552c-4b0d-90f8-91afdf2065c7",
   "metadata": {},
   "outputs": [],
   "source": []
  }
 ],
 "metadata": {
  "kernelspec": {
   "display_name": "Python 3",
   "language": "python",
   "name": "python3"
  },
  "language_info": {
   "codemirror_mode": {
    "name": "ipython",
    "version": 3
   },
   "file_extension": ".py",
   "mimetype": "text/x-python",
   "name": "python",
   "nbconvert_exporter": "python",
   "pygments_lexer": "ipython3",
   "version": "3.9.1"
  }
 },
 "nbformat": 4,
 "nbformat_minor": 5
}
